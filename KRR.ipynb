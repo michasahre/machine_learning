{
 "cells": [
  {
   "cell_type": "markdown",
   "metadata": {},
   "source": [
    "# Linear Regression - Recap\n",
    "\n",
    "In linear regression we want to find the coefficients $\\theta_0$ and $\\theta_1$ of the linear model\n",
    "\\begin{equation}\n",
    "y = \\theta_0 + \\theta_1 x.\n",
    "\\end{equation}\n",
    "This can be done by minimizing the cost function $J$\n",
    "\\begin{equation}\n",
    "J(\\theta_0, \\theta_1) = \\frac{1}{2n} \\sum_{i=1}^n (\\theta_0 + \\theta_1 x^{(i)} - y^{(i)})^2\n",
    "\\end{equation}\n",
    "with respect to $\\theta_0, \\theta_1$, where we have $n$ training samples $(x^{(i)}, y^{(i)})$.\n",
    "\n",
    "The cost function can also be written as\n",
    "\\begin{equation}\n",
    "J(\\vec{\\theta}) = \\frac{1}{2n} (X \\vec{\\theta} - \\vec{y})^T (X \\vec{\\theta} - \\vec{y})\n",
    "\\end{equation}\n",
    "with \n",
    "\\begin{equation}\n",
    "X = \n",
    "\\left(\\begin{matrix}\n",
    "1 & x^{(1)} \\\\\n",
    "1 & x^{(2)} \\\\\n",
    "... & ... \\\\\n",
    "1 & x^{(n)} \\\\\n",
    "\\end{matrix}\\right),\n",
    "\\end{equation}\n",
    "\n",
    "\\begin{equation}\n",
    "\\vec{\\theta} = \n",
    "\\left(\\begin{matrix}\n",
    "\\theta_0 \\\\\n",
    "\\theta_1\n",
    "\\end{matrix}\\right)\n",
    "\\end{equation}\n",
    "\n",
    "and\n",
    "\n",
    "\\begin{equation}\n",
    "\\vec{y} = \n",
    "\\left(\\begin{matrix}\n",
    "y^{(1)} \\\\\n",
    "y^{(2)} \\\\\n",
    "... \\\\\n",
    "y^{(n)}\n",
    "\\end{matrix}\\right).\n",
    "\\end{equation}\n",
    "Minimization of $J(\\vec{\\theta})$ shows that the optimal coefficents are\n",
    "\\begin{equation}\n",
    "\\vec{\\theta}_\\text{opt} = (X^TX)^{-1} X^T \\vec{y}\n",
    "\\end{equation}\n",
    "\n",
    "https://towardsdatascience.com/analytical-solution-of-linear-regression-a0e870b038d5"
   ]
  },
  {
   "cell_type": "markdown",
   "metadata": {},
   "source": [
    "### Modelling of non-linear data\n",
    "Linear regression is a great concept because there is an easy way to find the best solution but most real life problems are nonlinear and LR gives in these cases often useless results. We can improve the model by allowing nonlinear terms in the matrix $X$. E.g.\n",
    "\\begin{equation}\n",
    "X = \n",
    "\\left(\\begin{matrix}\n",
    "1 & x^{(1)} & (x^{(1)})^2 \\\\\n",
    "1 & x^{(2)} & (x^{(2)})^2 \\\\\n",
    "1 & x^{(3)} & (x^{(3)})^2 \\\\\n",
    "\\end{matrix}\\right)\n",
    "\\end{equation}\n",
    "allows us to find the coefficients for a quadratic fit with the approach used for linear case (I think that's really cool!)"
   ]
  },
  {
   "cell_type": "code",
   "execution_count": 2,
   "metadata": {},
   "outputs": [],
   "source": [
    "import numpy as np\n",
    "import sympy as sp\n",
    "from matplotlib import pyplot as plt\n",
    "\n",
    "from sklearn.preprocessing import PolynomialFeatures\n",
    "from sklearn import linear_model\n",
    "from sklearn.model_selection import train_test_split"
   ]
  },
  {
   "cell_type": "code",
   "execution_count": 29,
   "metadata": {},
   "outputs": [
    {
     "data": {
      "text/plain": [
       "<matplotlib.legend.Legend at 0x7fa994397cf8>"
      ]
     },
     "execution_count": 29,
     "metadata": {},
     "output_type": "execute_result"
    },
    {
     "data": {
      "image/png": "[encoded data removed]",
      "text/plain": [
       "<Figure size 432x288 with 1 Axes>"
      ]
     },
     "metadata": {
      "needs_background": "light"
     },
     "output_type": "display_data"
    }
   ],
   "source": [
    "x = np.linspace(0, 10, 50)\n",
    "noise = np.random.uniform(1e-1,1,len(x))\n",
    "y = 1 + 2.5*x + 3*x**2 + 10*noise\n",
    "\n",
    "x_train, x_test , y_train, y_test = train_test_split(x,y, train_size=0.5)\n",
    "plt.plot(x_train, y_train,'.', label='training')\n",
    "plt.plot(x_test, y_test,'.', label='test')\n",
    "plt.legend()"
   ]
  },
  {
   "cell_type": "markdown",
   "metadata": {},
   "source": [
    "### Preprocessing"
   ]
  },
  {
   "cell_type": "code",
   "execution_count": 30,
   "metadata": {},
   "outputs": [],
   "source": [
    "x_train = x_train.reshape(-1,1)\n",
    "y_train = y_train.reshape(-1,1)\n",
    "\n",
    "x_test = x_test.reshape(-1,1)\n",
    "y_test = y_test.reshape(-1,1)\n",
    "\n",
    "poly2 = PolynomialFeatures(degree=2)\n",
    "x2_train = poly2.fit_transform(x_train)\n",
    "x2_test = poly2.fit_transform(x_test)"
   ]
  },
  {
   "cell_type": "markdown",
   "metadata": {},
   "source": [
    "### Training"
   ]
  },
  {
   "cell_type": "code",
   "execution_count": 31,
   "metadata": {},
   "outputs": [],
   "source": [
    "lm_linear = linear_model.LinearRegression(fit_intercept=True)\n",
    "linear_fit = lm_linear.fit(x_train, y_train)\n",
    "\n",
    "lm_quadratic = linear_model.LinearRegression(fit_intercept=True)\n",
    "quadratic_fit = lm_quadratic.fit(x2_train,y_train)"
   ]
  },
  {
   "cell_type": "markdown",
   "metadata": {},
   "source": [
    "### Testing"
   ]
  },
  {
   "cell_type": "code",
   "execution_count": 32,
   "metadata": {},
   "outputs": [],
   "source": [
    "linear_pred = linear_fit.predict(x_test)\n",
    "mae_lin = (np.abs(linear_pred-y_test)).mean()\n",
    "quad_pred = quadratic_fit.predict(x2_test)\n",
    "mae_quad = (np.abs(quad_pred-y_test)).mean()"
   ]
  },
  {
   "cell_type": "code",
   "execution_count": 40,
   "metadata": {},
   "outputs": [
    {
     "data": {
      "text/plain": [
       "<matplotlib.legend.Legend at 0x7fa994414630>"
      ]
     },
     "execution_count": 40,
     "metadata": {},
     "output_type": "execute_result"
    },
    {
     "data": {
      "image/png": "[encoded data removed]",
      "text/plain": [
       "<Figure size 432x288 with 1 Axes>"
      ]
     },
     "metadata": {
      "needs_background": "light"
     },
     "output_type": "display_data"
    }
   ],
   "source": [
    "# sorting\n",
    "plt.plot(x_test, y_test, '.', label = 'true')\n",
    "plt.plot(x_test, linear_pred, '.', label = 'linear')\n",
    "plt.plot(np.linspace(0,10,50), linear_fit.predict(np.linspace(0,10,50).reshape(-1,1)), '--', color='tab:orange')\n",
    "plt.plot(x_test, quad_pred, '.', label = 'quadratic')\n",
    "plt.plot(np.linspace(0,10,50), quadratic_fit.predict(poly2.fit_transform(np.linspace(0,10,50).reshape(-1,1))), '--', color='tab:green')\n",
    "\n",
    "#plt.plot(x_test, crazy_fit.predict(x10_test), '.', label = '10th order')\n",
    "#plt.plot(np.linspace(0,5,50), crazy_fit.predict(poly10.fit_transform(np.linspace(0,5,50).reshape(-1,1))), '--', color='tab:red')\n",
    "\n",
    "plt.legend()"
   ]
  },
  {
   "cell_type": "code",
   "execution_count": 34,
   "metadata": {},
   "outputs": [
    {
     "name": "stdout",
     "output_type": "stream",
     "text": [
      "Error linear = 24.376799485840834\n",
      "Error quadratic = 3.0330646547450324\n"
     ]
    }
   ],
   "source": [
    "print(f'Error linear = {mae_lin}')\n",
    "print(f'Error quadratic = {mae_quad}')"
   ]
  },
  {
   "cell_type": "markdown",
   "metadata": {},
   "source": [
    "In general we map an input vector $\\vec{x}^{(i)}$ into a $k$-dimensional feature space $\\vec{\\Phi} (\\vec{x}^{(i)})$\n",
    "\\begin{equation}\n",
    "X = \n",
    "\\left(\\begin{matrix}\n",
    "\\Phi_0 (x^{(1)}) & \\Phi_1 (x^{(1)}) & \\Phi_2 (x^{(1)}) & ... & \\Phi_{k-1} (x^{(1)}) \\\\\n",
    "\\Phi_0 (x^{(2)}) & \\Phi_1 (x^{(2)}) & \\Phi_2 (x^{(2)}) & ... & \\Phi_{k-1} (x^{(2)}) \\\\\n",
    "... & ... & ... & ... & ... \\\\\n",
    "\\Phi_0 (x^{(n)}) & \\Phi_1 (x^{(n)}) & \\Phi_2 (x^{(n)}) & ... & \\Phi_{k-1} (x^{(n)}) \\\\\n",
    "\\end{matrix}\\right)\n",
    "\\end{equation}\n",
    "\n",
    "The mapping into the feature space allows the description of non-linear relations but it can also lead to overfitting because\n",
    "\n",
    "### Overfitting is a problem of models with many parameters"
   ]
  },
  {
   "cell_type": "code",
   "execution_count": 39,
   "metadata": {},
   "outputs": [
    {
     "name": "stdout",
     "output_type": "stream",
     "text": [
      "Error 10th-order polynom = 46.72925549079211\n"
     ]
    },
    {
     "data": {
      "image/png": "[encoded data removed]",
      "text/plain": [
       "<Figure size 432x288 with 1 Axes>"
      ]
     },
     "metadata": {
      "needs_background": "light"
     },
     "output_type": "display_data"
    }
   ],
   "source": [
    "poly10 = PolynomialFeatures(degree=10)\n",
    "x10_train = poly10.fit_transform(x_train)\n",
    "x10_test = poly10.fit_transform(x_test)\n",
    "\n",
    "lm_crazy = linear_model.LinearRegression(fit_intercept=True)\n",
    "crazy_fit = lm_crazy.fit(x10_train,y_train)\n",
    "crazy_pred = crazy_fit.predict(x10_test)\n",
    "mae_crazy = (np.abs(crazy_pred-y_test)).mean()\n",
    "\n",
    "plt.plot(x_test, y_test, '.', label = 'true')\n",
    "plt.plot(x_test, crazy_pred, '.', label = '10th order', color='tab:red')\n",
    "plt.plot(np.linspace(0,10,50), crazy_fit.predict(poly10.fit_transform(np.linspace(0,10,50).reshape(-1,1))), '--', color='tab:red')\n",
    "plt.legend()\n",
    "\n",
    "print(f'Error 10th-order polynom = {mae_crazy}')"
   ]
  },
  {
   "cell_type": "markdown",
   "metadata": {},
   "source": [
    "A regression model cannot distinguish noise and signal, it just tries to make the best fit of the data.\n",
    "\n",
    "We assume that the noise has a very complex relation to the input $x$ (because it is not correlated to $x$) while the relation between $x$ and signal is much simpler.\n",
    "\n",
    "Thus, a simple model has not the flexibility to describe the noise but can only model the simpler relation between $x$ and the signal.\n",
    "In contrast, a complex model can fit both the signal and the noise, which is overfitting.\n",
    "Because input and noise are not correlated this leads to a large test error\n",
    "\n",
    "One way of preventing overfitting is the use of less parameters. But this throws away some valuable information about the system. Also if there are many parameters with a small but equally large contribution, which should we neglect. Another (better) solution to avoid overfitting is regularization. Regularization is based on the observation that:\n",
    "\n",
    "### A model is less prone to overfitting if the values of the parameter are smaller\n",
    "This can apparently be shown with Bayesian statistics but an easier somewhat handwavy explanation is that a complex model can be converted into a simple model by making some parameters very small or setting them even to zero.\n",
    "\n",
    "https://www.coursera.org/lecture/machine-learning/cost-function-B1MnL\n",
    "\n",
    "https://stackoverflow.com/questions/34569903/how-does-having-smaller-values-for-parameters-help-in-preventing-over-fitting\n",
    "\n",
    "\n",
    "We can enforce small coefficients by adding a penalty term to the loss function\n",
    "\\begin{equation}\n",
    "J(\\vec{\\theta}) = \\frac{1}{2n} (X \\vec{\\theta} - \\vec{y})^T (X \\vec{\\theta} - \\vec{y}) + \\lambda \\vec{\\theta}^T \\vec{\\theta}.\n",
    "\\end{equation}\n",
    "The coefficients are then given by\n",
    "\\begin{equation}\n",
    "\\vec{\\theta}_\\text{opt, ridge} = (X^TX +\\lambda I)^{-1} X^T \\vec{y}.\n",
    "\\end{equation}"
   ]
  },
  {
   "cell_type": "code",
   "execution_count": 38,
   "metadata": {},
   "outputs": [
    {
     "name": "stdout",
     "output_type": "stream",
     "text": [
      "Error 10th-order polynom = 46.72925549079211\n",
      "Error 10th-order polynom regularized = 3.1585754560281885\n"
     ]
    },
    {
     "name": "stderr",
     "output_type": "stream",
     "text": [
      "/home/misa/.local/lib/python3.7/site-packages/sklearn/linear_model/_ridge.py:148: LinAlgWarning: Ill-conditioned matrix (rcond=6.49772e-21): result may not be accurate.\n",
      "  overwrite_a=True).T\n"
     ]
    },
    {
     "data": {
      "image/png": "[encoded data removed]",
      "text/plain": [
       "<Figure size 432x288 with 1 Axes>"
      ]
     },
     "metadata": {
      "needs_background": "light"
     },
     "output_type": "display_data"
    }
   ],
   "source": [
    "lm_crazy_reg = linear_model.Ridge()\n",
    "crazy_fit_reg = lm_crazy_reg.fit(x10_train,y_train)\n",
    "crazy_pred_reg = crazy_fit_reg.predict(x10_test)\n",
    "mae_crazy_reg = (np.abs(crazy_pred_reg-y_test)).mean()\n",
    "\n",
    "plt.plot(x_test, y_test, '.', label = 'true')\n",
    "plt.plot(x_test, crazy_pred, '.', label = '10th order', color='tab:red')\n",
    "plt.plot(np.linspace(0,10,50), crazy_fit.predict(poly10.fit_transform(np.linspace(0,10,50).reshape(-1,1))), '--', color='tab:red')\n",
    "\n",
    "plt.plot(x_test, crazy_pred_reg, '.', label = '10th order ridge', color='tab:brown')\n",
    "plt.plot(np.linspace(0,10,50), crazy_fit_reg.predict(poly10.fit_transform(np.linspace(0,10,50).reshape(-1,1))), '--', color='tab:brown')\n",
    "\n",
    "plt.legend()\n",
    "\n",
    "print(f'Error 10th-order polynom = {mae_crazy}')\n",
    "print(f'Error 10th-order polynom regularized = {mae_crazy_reg}')"
   ]
  },
  {
   "cell_type": "markdown",
   "metadata": {},
   "source": [
    "### The Kernel-trick\n",
    "Besides overfitting, another problem is, that the mapping into the high-dimensional feature space can require a large computational effort or can be even impossible for an infinite-dimensional feature space. The Kernel trick allows us to work in these high-dimensional spaces without an explicit mapping of the input vectors. Before we can apply the Kernel trick we must go from the so called primal representation to the dual representation.\n",
    "In the primal representation the label $y'$ is predicted from\n",
    "\\begin{equation}\n",
    "y' = \\vec{\\theta}^T \\vec{x}'\n",
    "\\end{equation}\n",
    "and the coefficients are calculated as shown above.\n",
    "$\\vec{\\theta}$ can also be written as\n",
    "\\begin{equation}\n",
    "\\vec{\\theta} = X^T (X X^T + \\lambda I)^{-1} Y\n",
    "\\end{equation}\n",
    "and inserting this yields\n",
    "\\begin{equation}\n",
    "y' = \\vec{x}'^T \\vec{\\theta} = \\vec{x}'^T X^T (X X^T + \\lambda I)^{-1} Y\n",
    "\\end{equation}\n",
    "with\n",
    "\\begin{equation}\n",
    "\\vec{x}'^T X^T = \\left(\\begin{matrix} \\sum_{i=1}^{k-1} \\phi_i(x') \\phi_i(x^{(1)}) & \\sum_{i=1}^{n} \\phi_i(x') \\phi_i(x^{(2)}) & ... \\end{matrix}\\right) = k(x', X)\n",
    "\\end{equation}\n",
    "The elements of $\\vec{x}'^T X^T$ are scalar products between $x'$ and $x^{(i)}$ in the feature space. In addition, the elements of the matrix\n",
    "\\begin{equation}\n",
    "(X X^T)_{ij} = \\langle \\Phi(x^{(i)}), \\Phi(x^{(j)}) \\rangle\n",
    "\\end{equation}\n",
    "are also the scalar products between $x^{(i)}$ and $x^{(j)}$ in feature space. This is the dual representation. So far, we still must map the input into the feature space (expensive) where we calculate the scalar product. However, it is also possible to calculate the scalar product using the inputs $x_i$ and $x_j$ directly without transformation to the feature space. This is the kernel trick.\n",
    "\n",
    "https://stats.stackexchange.com/questions/92672/difference-between-primal-dual-and-kernel-ridge-regression/134068"
   ]
  },
  {
   "cell_type": "markdown",
   "metadata": {},
   "source": [
    "### Summary\n",
    "- input is mapped into high-dimensional feature space with non-linear features $\\rightarrow$ modelling of non-linear relations between input and outout possible\n",
    "- high-dimensional model is prone to overfitting $\\rightarrow$ use of regularizer (ridge regression)\n",
    "- mapping in high-dimensional space expensive/impossible $\\rightarrow$ Kernel trick allows the use of high-dimensional feature space without explict mapping of input into this space"
   ]
  },
  {
   "cell_type": "markdown",
   "metadata": {},
   "source": [
    "### Popular Kernels"
   ]
  },
  {
   "cell_type": "markdown",
   "metadata": {},
   "source": [
    "For radial or stationary kernels the value of kernel element depends only on the distance between the input vectors. The two most significant radial kernels are \n",
    "\n",
    "the **Gaussian Kernel**\n",
    "\\begin{equation}\n",
    "K(\\vec{x},\\vec{y}) = e^{-\\frac{|| \\vec{x} - \\vec{y} ||^2}{2 \\sigma^2}}\n",
    "\\end{equation}\n",
    "\n",
    "and the **Laplacian Kernel**\n",
    "\\begin{equation}\n",
    "K(\\vec{x},\\vec{y}) = e^{-\\frac{| \\vec{x} - \\vec{y} |}{\\sigma}}.\n",
    "\\end{equation}\n",
    "\n",
    "Another important calls are **polynomial kernels**\n",
    "\\begin{equation}\n",
    "K(\\vec{x},\\vec{y}) = (\\alpha \\vec{x}^T\\vec{y} + c)^d.\n",
    "\\end{equation}\n",
    "The kernel value depends not only on the relative distance between the inputs but also their absolute values. This type of kernel is called non-stationary.\n",
    "For\n",
    "\\begin{equation}\n",
    "\\alpha = c = d = 1\n",
    "\\end{equation}\n",
    "the polynomial kernel is linear and identical to $y_i = a x_i + b$.\n",
    "\n",
    "https://www.futurelearn.com/info/courses/advanced-machine-learning/0/steps/49560"
   ]
  },
  {
   "cell_type": "markdown",
   "metadata": {},
   "source": [
    "## Hyperparameters\n",
    "If the kernel width $\\sigma$ is too small the model has a low training error but a high test error because the model only sees the interval very close to every training point. If the kernel width is too large everything looks the same and the predictions are weighted average of the training inputs."
   ]
  },
  {
   "cell_type": "markdown",
   "metadata": {},
   "source": [
    "How differ laplacian and gaussian kernel?\n",
    "\n",
    "gauss functions placed at every training point "
   ]
  },
  {
   "cell_type": "code",
   "execution_count": 11,
   "metadata": {},
   "outputs": [],
   "source": [
    "from sklearn.metrics.pairwise import polynomial_kernel\n",
    "\n",
    "from sklearn.kernel_ridge import KernelRidge\n",
    "from sklearn.metrics.pairwise import rbf_kernel"
   ]
  },
  {
   "cell_type": "code",
   "execution_count": 60,
   "metadata": {},
   "outputs": [],
   "source": [
    "x_train = np.arange(5)/8*np.pi\n",
    "y_train = np.cos(x_train)\n",
    "\n",
    "test_x = np.linspace(0, np.pi/2, 1000)\n",
    "\n",
    "lam = 1e-14\n",
    "\n",
    "gamma_small = 1/(2*0.01**2)\n",
    "small_sigma_train = rbf_kernel(x_train.reshape(-1,1), gamma=gamma_small)\n",
    "coeffs_small = np.linalg.inv((small_sigma_train + 1e-14*np.identity(len(x_train))))@y_train\n",
    "small_test = rbf_kernel(test_x.reshape(-1,1), x_train.reshape(-1,1), gamma=gamma_small)@coeffs_small\n",
    "\n",
    "gamma_medium = 1/(2*0.5**2)\n",
    "medium_sigma_train = rbf_kernel(x_train.reshape(-1,1), gamma=gamma_medium)\n",
    "coeffs_medium = np.linalg.inv((medium_sigma_train + 1e-14*np.identity(len(x_train))))@y_train\n",
    "medium_test = rbf_kernel(test_x.reshape(-1,1), x_train.reshape(-1,1), gamma=gamma_medium)@coeffs_medium\n",
    "\n",
    "gamma_large = 1/(2*(1e4)**2)\n",
    "large_sigma_train = rbf_kernel(x_train.reshape(-1,1), gamma=gamma_large)\n",
    "coeffs_large = np.linalg.inv((large_sigma_train + 1e-14*np.identity(len(x_train))))@y_train\n",
    "large_test = rbf_kernel(test_x.reshape(-1,1), x_train.reshape(-1,1), gamma=gamma_large)@coeffs_large"
   ]
  },
  {
   "cell_type": "code",
   "execution_count": 67,
   "metadata": {},
   "outputs": [
    {
     "data": {
      "text/plain": [
       "<matplotlib.legend.Legend at 0x7f4e708955c0>"
      ]
     },
     "execution_count": 67,
     "metadata": {},
     "output_type": "execute_result"
    },
    {
     "data": {
      "image/png": "[encoded data removed]",
      "text/plain": [
       "<Figure size 432x288 with 1 Axes>"
      ]
     },
     "metadata": {
      "needs_background": "light"
     },
     "output_type": "display_data"
    }
   ],
   "source": [
    "x = np.linspace(0, np.pi/2)\n",
    "y = np.cos(x)\n",
    "plt.plot(x,y)\n",
    "\n",
    "plt.plot(test_x,small_test, label=r'$\\sigma$ too small')\n",
    "\n",
    "plt.plot(test_x,medium_test, label=r'$\\sigma$ just right')\n",
    "\n",
    "plt.plot(test_x,large_test, label=r'$\\sigma$ too large')\n",
    "\n",
    "plt.legend()"
   ]
  },
  {
   "cell_type": "markdown",
   "metadata": {},
   "source": [
    "The kernel width $\\sigma$ can be calculated by a grid search. The size of the regularization parameter should be in the order of the noise (for data from QM calculation often a value around $10^{-7}$ is chosen)."
   ]
  },
  {
   "cell_type": "markdown",
   "metadata": {},
   "source": [
    "- properties"
   ]
  },
  {
   "cell_type": "markdown",
   "metadata": {},
   "source": [
    "## Determination of hyperparameters"
   ]
  },
  {
   "cell_type": "markdown",
   "metadata": {},
   "source": [
    "- hyperparamter tuning"
   ]
  },
  {
   "cell_type": "markdown",
   "metadata": {},
   "source": [
    "## Examples in chemistry"
   ]
  },
  {
   "cell_type": "markdown",
   "metadata": {},
   "source": [
    "- significance of kernels in chemistry"
   ]
  },
  {
   "cell_type": "code",
   "execution_count": null,
   "metadata": {},
   "outputs": [],
   "source": [
    "x = np.linspace(0, 10, 50)\n",
    "noise = np.random.uniform(1e-1,1,len(x))\n",
    "y = 2*x*x+noise\n",
    "plt.plot(x,y, '.')"
   ]
  },
  {
   "cell_type": "code",
   "execution_count": null,
   "metadata": {},
   "outputs": [],
   "source": [
    "t_ind = np.random.randint(0,len(x),10)\n",
    "x_test = x[t_ind]\n",
    "y_test = y[t_ind]"
   ]
  },
  {
   "cell_type": "code",
   "execution_count": null,
   "metadata": {},
   "outputs": [],
   "source": [
    "from sklearn.metrics.pairwise import polynomial_kernel"
   ]
  },
  {
   "cell_type": "code",
   "execution_count": null,
   "metadata": {},
   "outputs": [],
   "source": [
    "K_poly = polynomial_kernel(x_test.reshape(-1,1), x_test.reshape(-1,1), degree=2, gamma=None, coef0=1)"
   ]
  },
  {
   "cell_type": "code",
   "execution_count": null,
   "metadata": {},
   "outputs": [],
   "source": [
    "coeffs = np.linalg.inv(K_poly+1e-5*np.identity(K_poly.shape[0]))@y_test"
   ]
  },
  {
   "cell_type": "code",
   "execution_count": null,
   "metadata": {},
   "outputs": [],
   "source": [
    "coeffs"
   ]
  },
  {
   "cell_type": "code",
   "execution_count": null,
   "metadata": {},
   "outputs": [],
   "source": [
    "plt.plot(np.linspace(0,10,25), polynomial_kernel(np.linspace(0,10,25).reshape(-1,1), x_test.reshape(-1,1), degree=2, gamma=None, coef0=1)@coeffs, label = 'KRR')\n",
    "plt.plot(x,y, '.')\n",
    "plt.legend()"
   ]
  },
  {
   "cell_type": "code",
   "execution_count": null,
   "metadata": {},
   "outputs": [],
   "source": []
  },
  {
   "cell_type": "markdown",
   "metadata": {},
   "source": [
    "# Linear Regression - Recap\n",
    "\n",
    "In linear regression we want to solve\n",
    "\\begin{align}\n",
    "c_0 + c_1 \\cdot x_1 &= y_1 \\\\\n",
    "c_0 + c_1 \\cdot x_2 &= y_2 \\\\\n",
    "c_0 + c_1 \\cdot x_3 &= y_3 \\\\\n",
    "...\n",
    "\\end{align}\n",
    "We can write this in matrix form as\n",
    "\\begin{align}\n",
    "\\left(\\begin{matrix}\n",
    "1 & x_1 \\\\\n",
    "1 & x_2 \\\\\n",
    "1 & x_3 \\\\\n",
    "... & ...\n",
    "\\end{matrix}\\right)\n",
    "\\left(\\begin{matrix}\n",
    "c_1 \\\\\n",
    "c_2\n",
    "\\end{matrix}\\right)\n",
    "&=\n",
    "\\left(\\begin{matrix}\n",
    "y_1 \\\\\n",
    "y_2 \\\\\n",
    "y_3 \\\\\n",
    "...\n",
    "\\end{matrix}\\right) \\\\\n",
    "A \\vec{c} &= \\vec{y}\n",
    "\\end{align}\n",
    "This system of equations is overdetermined and has in most cases no solution (for every set of values $\\{x, y\\}$, that is nonlinear). \n",
    "\n",
    "However, we can solve instead\n",
    "\\begin{equation}\\label{mat}\n",
    "A^T A \\vec{c} = A^T \\vec{y}.\n",
    "\\end{equation}\n",
    "The solution for $\\vec{c}$ this equation gives us the projection of $\\vec{y}$ on the space spanned by the columns of $A$. This is the best linear fit, e.g. the result is identical to the one from the least squares approach. \n",
    "\n",
    "This idea can be easily expanded to the multivariate case. We just get a different matrix $A$\n",
    "\\begin{align}\n",
    "\\left(\\begin{matrix}\n",
    "1 & x_1^{(1)} & x_1^{(2)} \\\\\n",
    "1 & x_2^{(1)} & x_2^{(2)} \\\\\n",
    "1 & x_3^{(1)} & x_3^{(2)} \\\\\n",
    "... & ... & ...\n",
    "\\end{matrix}\\right)\n",
    "\\left(\\begin{matrix}\n",
    "\\alpha \\\\\n",
    "\\beta_1 \\\\\n",
    "\\beta_2 \\\\\n",
    "...\n",
    "\\end{matrix}\\right)\n",
    "&=\n",
    "\\left(\\begin{matrix}\n",
    "y_1 \\\\\n",
    "y_2 \\\\\n",
    "y_3 \\\\\n",
    "...\n",
    "\\end{matrix}\\right) \\\\\n",
    "\\end{align}\n",
    "and solve\n",
    "\\begin{equation}\n",
    "A^T A \\vec{c} = A^T \\vec{y}.\n",
    "\\end{equation}"
   ]
  },
  {
   "cell_type": "code",
   "execution_count": null,
   "metadata": {},
   "outputs": [],
   "source": []
  }
 ],
 "metadata": {
  "kernelspec": {
   "display_name": "Python [conda env:atomic-energies]",
   "language": "python",
   "name": "conda-env-atomic-energies-py"
  },
  "language_info": {
   "codemirror_mode": {
    "name": "ipython",
    "version": 3
   },
   "file_extension": ".py",
   "mimetype": "text/x-python",
   "name": "python",
   "nbconvert_exporter": "python",
   "pygments_lexer": "ipython3",
   "version": "3.7.3"
  }
 },
 "nbformat": 4,
 "nbformat_minor": 4
}
